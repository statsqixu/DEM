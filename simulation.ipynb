{
 "cells": [
  {
   "cell_type": "code",
   "execution_count": 1,
   "metadata": {},
   "outputs": [],
   "source": [
    "import numpy as np\n",
    "import matplotlib.pyplot as plt\n",
    "from util import *\n",
    "from tqdm import tqdm\n",
    "\n",
    "%matplotlib inline"
   ]
  },
  {
   "cell_type": "code",
   "execution_count": 2,
   "metadata": {},
   "outputs": [],
   "source": [
    "def getdata(sample_size, case=1, seed=None):\n",
    "    \n",
    "    if seed is not None:\n",
    "        np.random.seed(seed)\n",
    "    \n",
    "\n",
    "    X = np.random.uniform(low=-1, high=1, size=(sample_size, 5))\n",
    "    A = np.random.choice([0, 1], size=(sample_size, 2))\n",
    "\n",
    "    if case == 1 or 2:\n",
    "        mu = 10 + 5 * X[:, 0] + 3 * X[:, 1] + 2 * X[:, 2] - X[:, 4]\n",
    "    elif case == 3 or 4:\n",
    "        mu = 10 + np.exp(X[:, 0] + 2 * X[:, 1]) + np.abs(X[:, 3])\n",
    "\n",
    "    alpha_ = np.zeros((sample_size, 5))\n",
    "\n",
    "    for i in range(sample_size):\n",
    "\n",
    "        if (A[i, :] == np.array([0, 0])).all():\n",
    "\n",
    "            alpha_[i, :] = np.array([0, 2, -1, -4, 2])\n",
    "\n",
    "        elif (A[i, :] == np.array([1, 0])).all():\n",
    "\n",
    "            alpha_[i, :] = np.array([1, -2, 3, 1, 1])\n",
    "        \n",
    "        elif (A[i, :] == np.array([0, 1])).all():\n",
    "\n",
    "            alpha_[i, :] = np.array([2, 3, 2, 0, -2])\n",
    "\n",
    "        elif (A[i, :] == np.array([1, 1])).all():\n",
    "\n",
    "            alpha_[i, :] = np.array([-3, -3, -4, 3, -1])\n",
    "            \n",
    "    alpha_uni = np.array([[0, 2, -1, -4, 2], \n",
    "                          [1, -2, 3, 1, 1],\n",
    "                          [2, 3, 2, 0, -2],\n",
    "                          [-3, -3, -4, 3, -1]])\n",
    "\n",
    "    beta_ = np.zeros((sample_size, 5))\n",
    "\n",
    "    beta_[:, 0] = X[:, 0] ** 2 + X[:, 1] ** 2 - 1\n",
    "    beta_[:, 1] = np.sin(- (X[:, 1] + X[:, 2]) * np.pi)\n",
    "    beta_[:, 2] = np.log(1 + X[:, 3] ** 2 + X[:, 4] ** 2)\n",
    "    beta_[:, 3] = 1 / (2 + X[:, 4])\n",
    "    beta_[:, 4] = np.exp(- X[:, 2] * X[:, 4])\n",
    "\n",
    "    if case == 1:\n",
    "\n",
    "        R = mu + np.sum(np.multiply(alpha_, X), axis=1) + np.random.normal(size=(sample_size, ))\n",
    "        \n",
    "        trt_panel = X.dot(alpha_uni.transpose())\n",
    "\n",
    "    elif case == 2:\n",
    "\n",
    "        R = mu + np.sum(np.multiply(alpha_, beta_), axis=1) + np.random.normal(size=(sample_size, ))\n",
    "        \n",
    "        trt_panel = beta_.dot(alpha_uni.transpose())\n",
    "       \n",
    "    elif case == 3:\n",
    "\n",
    "        R = mu + np.sum(np.multiply(alpha_, X), axis=1) + np.random.normal(size=(sample_size, ))\n",
    "        \n",
    "        trt_panel = X.dot(alpha_uni.transpose())\n",
    "\n",
    "    elif case == 4:\n",
    "\n",
    "        R = mu + np.sum(np.multiply(alpha_, beta_), axis=1) + np.random.normal(size=(sample_size, ))\n",
    "        \n",
    "        trt_panel = beta_.dot(alpha_uni.transpose())\n",
    "        \n",
    "    optA_ = np.argmax(trt_panel, axis=1)\n",
    "    \n",
    "    optA = np.zeros((sample_size, 2))\n",
    "    optA[optA_ == 0] = np.array([0, 0])\n",
    "    optA[optA_ == 1] = np.array([1, 0])\n",
    "    optA[optA_ == 2] = np.array([0, 1])\n",
    "    optA[optA_ == 3] = np.array([1, 1])\n",
    "    \n",
    "\n",
    "    return R, X, A, optA\n",
    "\n"
   ]
  },
  {
   "cell_type": "code",
   "execution_count": 3,
   "metadata": {},
   "outputs": [],
   "source": [
    "def evalITR(Y, A, D):\n",
    "\n",
    "    numerator = np.sum(Y[np.all(D == A, axis=1)])\n",
    "    denominator = np.sum(np.all(D == A, axis=1))\n",
    "    \n",
    "    return numerator / denominator"
   ]
  },
  {
   "cell_type": "code",
   "execution_count": 4,
   "metadata": {
    "tags": []
   },
   "outputs": [
    {
     "name": "stderr",
     "output_type": "stream",
     "text": [
      "100%|████████████████████████████████████████████████████████████████████████████████| 100/100 [02:55<00:00,  1.75s/it]"
     ]
    },
    {
     "name": "stdout",
     "output_type": "stream",
     "text": [
      "Mean optimal value is 13.551989877192161, standard deivation is 0.0726171985522268\n",
      "Mean accuracy is 0.9638259999999998, standard deivation is 0.007080178246343805\n"
     ]
    },
    {
     "name": "stderr",
     "output_type": "stream",
     "text": [
      "\n"
     ]
    }
   ],
   "source": [
    "# Simulation 1\n",
    "\n",
    "vals_list = np.zeros((100, ))\n",
    "accs_list = np.zeros((100, ))\n",
    "\n",
    "for i in tqdm(range(100)):\n",
    "\n",
    "    R_train, X_train, A_train, optA_train = getdata(500)\n",
    "    R_test, X_test, A_test, optA_test = getdata(10000)\n",
    "\n",
    "    mcitr = MCITR(layer_enc=4, layer_dec=4, layer_cov=0,\n",
    "                  act_enc=\"relu\", act_dec=\"relu\",\n",
    "                  width_enc=20, width_dec=20,\n",
    "                  optimizer=\"adam\")\n",
    "\n",
    "    mcitr.fit(R_train, X_train, A_train, learning_rate=1e-2, epochs=100)\n",
    "\n",
    "    D_test = mcitr.predict(X_test, A_test)\n",
    "\n",
    "    vals_list[i] = evalITR(R_test, A_test, D_test)\n",
    "    accs_list[i] = np.mean(np.all(D_test == optA_test, axis=1))\n",
    "    \n",
    "np.save(\"case1_value\", vals_list)\n",
    "np.save(\"case1_acc\", accs_list)\n",
    "\n",
    "print(\"Mean optimal value is {0}, standard deivation is {1}\".format(np.mean(vals_list), np.std(vals_list)))\n",
    "print(\"Mean accuracy is {0}, standard deivation is {1}\".format(np.mean(accs_list), np.std(accs_list)))"
   ]
  },
  {
   "cell_type": "code",
   "execution_count": 5,
   "metadata": {},
   "outputs": [
    {
     "name": "stderr",
     "output_type": "stream",
     "text": [
      "100%|████████████████████████████████████████████████████████████████████████████████| 100/100 [03:17<00:00,  1.98s/it]"
     ]
    },
    {
     "name": "stdout",
     "output_type": "stream",
     "text": [
      "Mean optimal value is 12.967907231641131, standard deivation is 0.09581452209953809\n",
      "Mean accuracy is 0.8052369999999999, standard deivation is 0.02235960042129555\n"
     ]
    },
    {
     "name": "stderr",
     "output_type": "stream",
     "text": [
      "\n"
     ]
    }
   ],
   "source": [
    "# Simulation 2\n",
    "\n",
    "vals_list = np.zeros((100, ))\n",
    "accs_list = np.zeros((100, ))\n",
    "\n",
    "for i in tqdm(range(100)):\n",
    "\n",
    "    R_train, X_train, A_train, optA_train = getdata(500, case=2)\n",
    "    R_test, X_test, A_test, optA_test = getdata(10000, case=2)\n",
    "\n",
    "    mcitr = MCITR(layer_enc=4, layer_dec=4, layer_cov=2,\n",
    "                  act_enc=\"relu\", act_dec=\"relu\", act_cov=\"relu\",\n",
    "                  width_enc=20, width_dec=20, width_cov=20,\n",
    "                  optimizer=\"adam\")\n",
    "\n",
    "    mcitr.fit(R_train, X_train, A_train, learning_rate=1e-2, epochs=100)\n",
    "\n",
    "    D_test = mcitr.predict(X_test, A_test)\n",
    "\n",
    "    vals_list[i] = evalITR(R_test, A_test, D_test)\n",
    "    accs_list[i] = np.mean(np.all(D_test == optA_test, axis=1))\n",
    "\n",
    "np.save(\"case2_value\", vals_list)\n",
    "np.save(\"case2_acc\", accs_list)\n",
    "\n",
    "print(\"Mean optimal value is {0}, standard deivation is {1}\".format(np.mean(vals_list), np.std(vals_list)))\n",
    "print(\"Mean accuracy is {0}, standard deivation is {1}\".format(np.mean(accs_list), np.std(accs_list)))"
   ]
  },
  {
   "cell_type": "code",
   "execution_count": 6,
   "metadata": {},
   "outputs": [
    {
     "name": "stderr",
     "output_type": "stream",
     "text": [
      "100%|████████████████████████████████████████████████████████████████████████████████| 100/100 [03:25<00:00,  2.06s/it]"
     ]
    },
    {
     "name": "stdout",
     "output_type": "stream",
     "text": [
      "Mean optimal value is 13.421220250285371, standard deivation is 0.0842376050577976\n",
      "Mean accuracy is 0.850677, standard deivation is 0.017015409809934056\n"
     ]
    },
    {
     "name": "stderr",
     "output_type": "stream",
     "text": [
      "\n"
     ]
    }
   ],
   "source": [
    "# Simulation 3\n",
    "\n",
    "vals_list = np.zeros((100, ))\n",
    "accs_list = np.zeros((100, ))\n",
    "\n",
    "for i in tqdm(range(100)):\n",
    "\n",
    "    R_train, X_train, A_train, optA_train = getdata(500, case=3)\n",
    "    R_test, X_test, A_test, optA_test = getdata(10000, case=3)\n",
    "\n",
    "    mcitr = MCITR(layer_enc=4, layer_dec=4, layer_cov=4,\n",
    "                  act_enc=\"relu\", act_dec=\"relu\", act_cov=\"relu\",\n",
    "                  width_enc=20, width_dec=20, width_cov=20,\n",
    "                  optimizer=\"adam\")\n",
    "\n",
    "    mcitr.fit(R_train, X_train, A_train, learning_rate=1e-2, epochs=100)\n",
    "\n",
    "    D_test = mcitr.predict(X_test, A_test)\n",
    "\n",
    "    vals_list[i] = evalITR(R_test, A_test, D_test)\n",
    "    accs_list[i] = np.mean(np.all(D_test == optA_test, axis=1))\n",
    "\n",
    "np.save(\"case3_value\", vals_list)\n",
    "np.save(\"case3_acc\", accs_list)\n",
    "\n",
    "print(\"Mean optimal value is {0}, standard deivation is {1}\".format(np.mean(vals_list), np.std(vals_list)))\n",
    "print(\"Mean accuracy is {0}, standard deivation is {1}\".format(np.mean(accs_list), np.std(accs_list)))"
   ]
  },
  {
   "cell_type": "code",
   "execution_count": 7,
   "metadata": {},
   "outputs": [
    {
     "name": "stderr",
     "output_type": "stream",
     "text": [
      "100%|████████████████████████████████████████████████████████████████████████████████| 100/100 [03:26<00:00,  2.06s/it]"
     ]
    },
    {
     "name": "stdout",
     "output_type": "stream",
     "text": [
      "Mean optimal value is 12.787000877120617, standard deivation is 0.11143259301559362\n",
      "Mean accuracy is 0.725128, standard deivation is 0.030046657318244234\n"
     ]
    },
    {
     "name": "stderr",
     "output_type": "stream",
     "text": [
      "\n"
     ]
    }
   ],
   "source": [
    "# Simulation 4\n",
    "\n",
    "vals_list = np.zeros((100, ))\n",
    "accs_list = np.zeros((100, ))\n",
    "\n",
    "for i in tqdm(range(100)):\n",
    "\n",
    "    R_train, X_train, A_train, optA_train = getdata(500, case=4)\n",
    "    R_test, X_test, A_test, optA_test = getdata(10000, case=4)\n",
    "\n",
    "    mcitr = MCITR(layer_enc=4, layer_dec=4, layer_cov=4,\n",
    "                  act_enc=\"relu\", act_dec=\"relu\", act_cov=\"relu\",\n",
    "                  width_enc=20, width_dec=20, width_cov=20,\n",
    "                  optimizer=\"adam\")\n",
    "\n",
    "    mcitr.fit(R_train, X_train, A_train, learning_rate=1e-2, epochs=100)\n",
    "    \n",
    "    D_test = mcitr.predict(X_test, A_test)\n",
    "\n",
    "    vals_list[i] = evalITR(R_test, A_test, D_test)\n",
    "    accs_list[i] = np.mean(np.all(D_test == optA_test, axis=1))\n",
    "\n",
    "np.save(\"case4_value\", vals_list)\n",
    "np.save(\"case4_acc\", accs_list)\n",
    "\n",
    "print(\"Mean optimal value is {0}, standard deivation is {1}\".format(np.mean(vals_list), np.std(vals_list)))\n",
    "print(\"Mean accuracy is {0}, standard deivation is {1}\".format(np.mean(accs_list), np.std(accs_list)))"
   ]
  }
 ],
 "metadata": {
  "kernelspec": {
   "display_name": "Python 3",
   "language": "python",
   "name": "python3"
  },
  "language_info": {
   "codemirror_mode": {
    "name": "ipython",
    "version": 3
   },
   "file_extension": ".py",
   "mimetype": "text/x-python",
   "name": "python",
   "nbconvert_exporter": "python",
   "pygments_lexer": "ipython3",
   "version": "3.8.8"
  }
 },
 "nbformat": 4,
 "nbformat_minor": 4
}
