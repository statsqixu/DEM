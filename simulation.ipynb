{
 "cells": [
  {
   "cell_type": "code",
   "execution_count": 1,
   "metadata": {},
   "outputs": [],
   "source": [
    "import numpy as np\n",
    "import matplotlib.pyplot as plt\n",
    "from util import *\n",
    "from tqdm import tqdm\n",
    "\n",
    "%matplotlib inline"
   ]
  },
  {
   "cell_type": "code",
   "execution_count": 2,
   "metadata": {},
   "outputs": [],
   "source": [
    "def getdata(sample_size, case=1, seed=None):\n",
    "    \n",
    "    if seed is not None:\n",
    "        np.random.seed(seed)\n",
    "    \n",
    "\n",
    "    X = np.random.uniform(low=-1, high=1, size=(sample_size, 5))\n",
    "    A = np.random.choice([0, 1], size=(sample_size, 2))\n",
    "\n",
    "    if case == 1 or 2:\n",
    "        mu = 10 + 5 * X[:, 0] + 3 * X[:, 1] + 2 * X[:, 2] - X[:, 4]\n",
    "    elif case == 3 or 4:\n",
    "        mu = 10 + np.exp(X[:, 0] + 2 * X[:, 1]) + np.abs(X[:, 3])\n",
    "\n",
    "    alpha_ = np.zeros((sample_size, 5))\n",
    "\n",
    "    for i in range(sample_size):\n",
    "\n",
    "        if (A[i, :] == np.array([0, 0])).all():\n",
    "\n",
    "            alpha_[i, :] = np.array([0, 2, -1, -4, 2])\n",
    "\n",
    "        elif (A[i, :] == np.array([1, 0])).all():\n",
    "\n",
    "            alpha_[i, :] = np.array([1, -2, 3, 1, 1])\n",
    "        \n",
    "        elif (A[i, :] == np.array([0, 1])).all():\n",
    "\n",
    "            alpha_[i, :] = np.array([2, 3, 2, 0, -2])\n",
    "\n",
    "        elif (A[i, :] == np.array([1, 1])).all():\n",
    "\n",
    "            alpha_[i, :] = np.array([-3, -3, -4, 3, -1])\n",
    "\n",
    "    beta_ = np.zeros((sample_size, 5))\n",
    "\n",
    "    beta_[:, 0] = X[:, 0] ** 2 + X[:, 1] ** 2 - 1\n",
    "    beta_[:, 1] = np.sin(- (X[:, 1] + X[:, 2]) * np.pi)\n",
    "    beta_[:, 2] = np.log(1 + X[:, 3] ** 2 + X[:, 4] ** 2)\n",
    "    beta_[:, 3] = 1 / (2 + X[:, 4])\n",
    "    beta_[:, 4] = np.exp(- X[:, 2] * X[:, 4])\n",
    "\n",
    "    if case == 1:\n",
    "\n",
    "        R = mu + np.sum(np.multiply(alpha_, X), axis=1) + np.random.normal(size=(sample_size, ))\n",
    "\n",
    "    elif case == 2:\n",
    "\n",
    "        R = mu + np.sum(np.multiply(alpha_, beta_), axis=1) + np.random.normal(size=(sample_size, ))\n",
    "\n",
    "    elif case == 3:\n",
    "\n",
    "        R = mu + np.sum(np.multiply(alpha_, X), axis=1) + np.random.normal(size=(sample_size, ))\n",
    "\n",
    "    elif case == 4:\n",
    "\n",
    "        R = mu + np.sum(np.multiply(alpha_, beta_), axis=1) + np.random.normal(size=(sample_size, ))\n",
    "\n",
    "    return R, X, A\n",
    "\n"
   ]
  },
  {
   "cell_type": "code",
   "execution_count": 3,
   "metadata": {},
   "outputs": [],
   "source": [
    "def evalITR(Y, A, D):\n",
    "\n",
    "    numerator = np.sum(Y[np.all(D == A, axis=1)])\n",
    "    denominator = np.sum(np.all(D == A, axis=1))\n",
    "    \n",
    "    return numerator / denominator"
   ]
  },
  {
   "cell_type": "code",
   "execution_count": 4,
   "metadata": {
    "tags": []
   },
   "outputs": [
    {
     "name": "stderr",
     "output_type": "stream",
     "text": [
      "100%|██████████████████████████████████████████████████| 100/100 [03:23<00:00,  2.04s/it]\n"
     ]
    }
   ],
   "source": [
    "# Simulation 1\n",
    "\n",
    "embed_list = np.zeros((100, 4, 5))\n",
    "vals_list = np.zeros((100, ))\n",
    "\n",
    "for i in tqdm(range(100)):\n",
    "\n",
    "    R_train, X_train, A_train = getdata(500)\n",
    "    R_test, X_test, A_test = getdata(10000)\n",
    "\n",
    "    mcitr = MCITR(layer_enc=4, layer_dec=4, layer_cov=0,\n",
    "                  act_enc=\"relu\", act_dec=\"relu\",\n",
    "                  width_enc=20, width_dec=20, optimizer=\"adam\")\n",
    "\n",
    "    mcitr.fit(R_train, X_train, A_train, learning_rate=1e-2, epochs=100)\n",
    "\n",
    "    embed_list[i, 0] = mcitr.trt_encoder.predict(np.array([[0, 0]]))\n",
    "    embed_list[i, 1] = mcitr.trt_encoder.predict(np.array([[1, 0]]))\n",
    "    embed_list[i, 2] = mcitr.trt_encoder.predict(np.array([[0, 1]]))\n",
    "    embed_list[i, 3] = mcitr.trt_encoder.predict(np.array([[1, 1]]))\n",
    "    \n",
    "    D_test = mcitr.predict(X_test, A_test)\n",
    "\n",
    "    vals_list[i] = evalITR(R_test, A_test, D_test)\n",
    "\n",
    "np.save(\"case1_embedding\", embed_list)\n",
    "np.save(\"case1_value\", vals_list)"
   ]
  },
  {
   "cell_type": "code",
   "execution_count": 5,
   "metadata": {},
   "outputs": [
    {
     "data": {
      "text/plain": [
       "{'whiskers': [<matplotlib.lines.Line2D at 0x28c8acef4f0>,\n",
       "  <matplotlib.lines.Line2D at 0x28c8acef880>,\n",
       "  <matplotlib.lines.Line2D at 0x28c89944e20>,\n",
       "  <matplotlib.lines.Line2D at 0x28c8993d1f0>,\n",
       "  <matplotlib.lines.Line2D at 0x28c89923790>,\n",
       "  <matplotlib.lines.Line2D at 0x28c89923b20>,\n",
       "  <matplotlib.lines.Line2D at 0x28c89943100>,\n",
       "  <matplotlib.lines.Line2D at 0x28c89943490>,\n",
       "  <matplotlib.lines.Line2D at 0x28c8ada4a60>,\n",
       "  <matplotlib.lines.Line2D at 0x28c8ada4df0>],\n",
       " 'caps': [<matplotlib.lines.Line2D at 0x28c8acefc10>,\n",
       "  <matplotlib.lines.Line2D at 0x28c8aceffa0>,\n",
       "  <matplotlib.lines.Line2D at 0x28c8993d580>,\n",
       "  <matplotlib.lines.Line2D at 0x28c8993d910>,\n",
       "  <matplotlib.lines.Line2D at 0x28c89923eb0>,\n",
       "  <matplotlib.lines.Line2D at 0x28c8992e280>,\n",
       "  <matplotlib.lines.Line2D at 0x28c89943820>,\n",
       "  <matplotlib.lines.Line2D at 0x28c89943bb0>,\n",
       "  <matplotlib.lines.Line2D at 0x28c8ad8a1c0>,\n",
       "  <matplotlib.lines.Line2D at 0x28c8ad8a550>],\n",
       " 'boxes': [<matplotlib.lines.Line2D at 0x28c8acef160>,\n",
       "  <matplotlib.lines.Line2D at 0x28c89944a90>,\n",
       "  <matplotlib.lines.Line2D at 0x28c89923400>,\n",
       "  <matplotlib.lines.Line2D at 0x28c8992ed30>,\n",
       "  <matplotlib.lines.Line2D at 0x28c8ada46d0>],\n",
       " 'medians': [<matplotlib.lines.Line2D at 0x28c89944370>,\n",
       "  <matplotlib.lines.Line2D at 0x28c8993dca0>,\n",
       "  <matplotlib.lines.Line2D at 0x28c8992e610>,\n",
       "  <matplotlib.lines.Line2D at 0x28c89943f40>,\n",
       "  <matplotlib.lines.Line2D at 0x28c8ad8a8e0>],\n",
       " 'fliers': [<matplotlib.lines.Line2D at 0x28c89944700>,\n",
       "  <matplotlib.lines.Line2D at 0x28c89923070>,\n",
       "  <matplotlib.lines.Line2D at 0x28c8992e9a0>,\n",
       "  <matplotlib.lines.Line2D at 0x28c8ada4340>,\n",
       "  <matplotlib.lines.Line2D at 0x28c8ad8ac70>],\n",
       " 'means': []}"
      ]
     },
     "execution_count": 5,
     "metadata": {},
     "output_type": "execute_result"
    },
    {
     "data": {
      "image/png": "[encoded data removed]",
      "text/plain": [
       "<Figure size 432x288 with 4 Axes>"
      ]
     },
     "metadata": {
      "needs_background": "light"
     },
     "output_type": "display_data"
    }
   ],
   "source": [
    "embed_list = np.load(\"case1_embedding.npy\")\n",
    "\n",
    "fig, ax = plt.subplots(2, 2)\n",
    "\n",
    "ax[0, 0].boxplot(embed_list[:, 0, :])\n",
    "ax[0, 1].boxplot(embed_list[:, 1, :])\n",
    "ax[1, 0].boxplot(embed_list[:, 2, :])\n",
    "ax[1, 1].boxplot(embed_list[:, 3, :])"
   ]
  },
  {
   "cell_type": "code",
   "execution_count": 6,
   "metadata": {},
   "outputs": [
    {
     "name": "stderr",
     "output_type": "stream",
     "text": [
      "100%|██████████████████████████████████████████████████| 100/100 [03:25<00:00,  2.05s/it]\n"
     ]
    }
   ],
   "source": [
    "# Simulation 2\n",
    "\n",
    "embed_list = np.zeros((100, 4, 5))\n",
    "vals_list = np.zeros((100, ))\n",
    "\n",
    "for i in tqdm(range(100)):\n",
    "\n",
    "    R_train, X_train, A_train = getdata(500, case=2)\n",
    "    R_test, X_test, A_test = getdata(10000, case=2)\n",
    "\n",
    "    mcitr = MCITR(layer_enc=4, layer_dec=4, layer_cov=0,\n",
    "                  act_enc=\"relu\", act_dec=\"relu\", \n",
    "                  width_enc=20, width_dec=20, optimizer=\"adam\")\n",
    "\n",
    "    mcitr.fit(R_train, X_train, A_train, learning_rate=1e-2, epochs=100)\n",
    "\n",
    "    embed_list[i, 0] = mcitr.trt_encoder.predict(np.array([[0, 0]]))\n",
    "    embed_list[i, 1] = mcitr.trt_encoder.predict(np.array([[1, 0]]))\n",
    "    embed_list[i, 2] = mcitr.trt_encoder.predict(np.array([[0, 1]]))\n",
    "    embed_list[i, 3] = mcitr.trt_encoder.predict(np.array([[1, 1]]))\n",
    "    \n",
    "    D_test = mcitr.predict(X_test, A_test)\n",
    "\n",
    "    vals_list[i] = evalITR(R_test, A_test, D_test)\n",
    "\n",
    "np.save(\"case2_embedding\", embed_list)\n",
    "np.save(\"case2_value\", vals_list)"
   ]
  },
  {
   "cell_type": "code",
   "execution_count": 7,
   "metadata": {},
   "outputs": [
    {
     "data": {
      "text/plain": [
       "{'whiskers': [<matplotlib.lines.Line2D at 0x28c8851d6d0>,\n",
       "  <matplotlib.lines.Line2D at 0x28c8851d340>,\n",
       "  <matplotlib.lines.Line2D at 0x28c8988ea00>,\n",
       "  <matplotlib.lines.Line2D at 0x28c8988ebb0>,\n",
       "  <matplotlib.lines.Line2D at 0x28c8c43dca0>,\n",
       "  <matplotlib.lines.Line2D at 0x28c88146dc0>,\n",
       "  <matplotlib.lines.Line2D at 0x28c89834760>,\n",
       "  <matplotlib.lines.Line2D at 0x28c89834e20>,\n",
       "  <matplotlib.lines.Line2D at 0x28c8af4c760>,\n",
       "  <matplotlib.lines.Line2D at 0x28c8af4c460>],\n",
       " 'caps': [<matplotlib.lines.Line2D at 0x28c8851db80>,\n",
       "  <matplotlib.lines.Line2D at 0x28c8851d640>,\n",
       "  <matplotlib.lines.Line2D at 0x28c88088b50>,\n",
       "  <matplotlib.lines.Line2D at 0x28c88088c10>,\n",
       "  <matplotlib.lines.Line2D at 0x28c88146940>,\n",
       "  <matplotlib.lines.Line2D at 0x28c88146c70>,\n",
       "  <matplotlib.lines.Line2D at 0x28c89834f10>,\n",
       "  <matplotlib.lines.Line2D at 0x28c8962f370>,\n",
       "  <matplotlib.lines.Line2D at 0x28c8af4c8b0>,\n",
       "  <matplotlib.lines.Line2D at 0x28c8af4c6a0>],\n",
       " 'boxes': [<matplotlib.lines.Line2D at 0x28c880fb100>,\n",
       "  <matplotlib.lines.Line2D at 0x28c8988e3d0>,\n",
       "  <matplotlib.lines.Line2D at 0x28c8c43d700>,\n",
       "  <matplotlib.lines.Line2D at 0x28c898344c0>,\n",
       "  <matplotlib.lines.Line2D at 0x28c8962f490>],\n",
       " 'medians': [<matplotlib.lines.Line2D at 0x28c8988e5e0>,\n",
       "  <matplotlib.lines.Line2D at 0x28c8c43da90>,\n",
       "  <matplotlib.lines.Line2D at 0x28c88146fa0>,\n",
       "  <matplotlib.lines.Line2D at 0x28c8962f1f0>,\n",
       "  <matplotlib.lines.Line2D at 0x28c880b7910>],\n",
       " 'fliers': [<matplotlib.lines.Line2D at 0x28c8988e7c0>,\n",
       "  <matplotlib.lines.Line2D at 0x28c8c43d0a0>,\n",
       "  <matplotlib.lines.Line2D at 0x28c881464f0>,\n",
       "  <matplotlib.lines.Line2D at 0x28c8962fca0>,\n",
       "  <matplotlib.lines.Line2D at 0x28c880b71f0>],\n",
       " 'means': []}"
      ]
     },
     "execution_count": 7,
     "metadata": {},
     "output_type": "execute_result"
    },
    {
     "data": {
      "image/png": "[encoded data removed]",
      "text/plain": [
       "<Figure size 432x288 with 4 Axes>"
      ]
     },
     "metadata": {
      "needs_background": "light"
     },
     "output_type": "display_data"
    }
   ],
   "source": [
    "embed_list = np.load(\"case2_embedding.npy\")\n",
    "\n",
    "fig, ax = plt.subplots(2, 2)\n",
    "\n",
    "ax[0, 0].boxplot(embed_list[:, 0, :])\n",
    "ax[0, 1].boxplot(embed_list[:, 1, :])\n",
    "ax[1, 0].boxplot(embed_list[:, 2, :])\n",
    "ax[1, 1].boxplot(embed_list[:, 3, :])\n"
   ]
  },
  {
   "cell_type": "code",
   "execution_count": 8,
   "metadata": {},
   "outputs": [
    {
     "name": "stderr",
     "output_type": "stream",
     "text": [
      "100%|██████████████████████████████████████████████████| 100/100 [03:19<00:00,  2.00s/it]\n"
     ]
    }
   ],
   "source": [
    "# Simulation 3\n",
    "\n",
    "embed_list = np.zeros((100, 4, 5))\n",
    "vals_list = np.zeros((100, ))\n",
    "\n",
    "for i in tqdm(range(100)):\n",
    "\n",
    "    R_train, X_train, A_train = getdata(500, case=3)\n",
    "    R_test, X_test, A_test = getdata(10000, case=3)\n",
    "\n",
    "    mcitr = MCITR(layer_enc=4, layer_dec=4, layer_cov=0,\n",
    "                  act_enc=\"relu\", act_dec=\"relu\", \n",
    "                  width_enc=20, width_dec=20, optimizer=\"adam\")\n",
    "\n",
    "    mcitr.fit(R_train, X_train, A_train, learning_rate=1e-2, epochs=100)\n",
    "\n",
    "    embed_list[i, 0] = mcitr.trt_encoder.predict(np.array([[0, 0]]))\n",
    "    embed_list[i, 1] = mcitr.trt_encoder.predict(np.array([[1, 0]]))\n",
    "    embed_list[i, 2] = mcitr.trt_encoder.predict(np.array([[0, 1]]))\n",
    "    embed_list[i, 3] = mcitr.trt_encoder.predict(np.array([[1, 1]]))\n",
    "    \n",
    "    D_test = mcitr.predict(X_test, A_test)\n",
    "\n",
    "    vals_list[i] = evalITR(R_test, A_test, D_test)\n",
    "\n",
    "np.save(\"case3_embedding\", embed_list)\n",
    "np.save(\"case3_value\", vals_list)"
   ]
  },
  {
   "cell_type": "code",
   "execution_count": 9,
   "metadata": {},
   "outputs": [
    {
     "data": {
      "text/plain": [
       "{'whiskers': [<matplotlib.lines.Line2D at 0x28c88245af0>,\n",
       "  <matplotlib.lines.Line2D at 0x28c88245e80>,\n",
       "  <matplotlib.lines.Line2D at 0x28c8b1a0460>,\n",
       "  <matplotlib.lines.Line2D at 0x28c8b1a07f0>,\n",
       "  <matplotlib.lines.Line2D at 0x28c8b197d90>,\n",
       "  <matplotlib.lines.Line2D at 0x28c8b18a160>,\n",
       "  <matplotlib.lines.Line2D at 0x28c8ad31730>,\n",
       "  <matplotlib.lines.Line2D at 0x28c8ad31ac0>,\n",
       "  <matplotlib.lines.Line2D at 0x28c8ad540a0>,\n",
       "  <matplotlib.lines.Line2D at 0x28c8ad54430>],\n",
       " 'caps': [<matplotlib.lines.Line2D at 0x28c8b17b250>,\n",
       "  <matplotlib.lines.Line2D at 0x28c8b17b5e0>,\n",
       "  <matplotlib.lines.Line2D at 0x28c8b1a0b80>,\n",
       "  <matplotlib.lines.Line2D at 0x28c8b1a0f10>,\n",
       "  <matplotlib.lines.Line2D at 0x28c8b18a4f0>,\n",
       "  <matplotlib.lines.Line2D at 0x28c8b18a880>,\n",
       "  <matplotlib.lines.Line2D at 0x28c8ad31e50>,\n",
       "  <matplotlib.lines.Line2D at 0x28c8ad35220>,\n",
       "  <matplotlib.lines.Line2D at 0x28c8ad547c0>,\n",
       "  <matplotlib.lines.Line2D at 0x28c8ad54b50>],\n",
       " 'boxes': [<matplotlib.lines.Line2D at 0x28c88245760>,\n",
       "  <matplotlib.lines.Line2D at 0x28c8b1a00d0>,\n",
       "  <matplotlib.lines.Line2D at 0x28c8b197a00>,\n",
       "  <matplotlib.lines.Line2D at 0x28c8ad313a0>,\n",
       "  <matplotlib.lines.Line2D at 0x28c8ad35cd0>],\n",
       " 'medians': [<matplotlib.lines.Line2D at 0x28c8b17b970>,\n",
       "  <matplotlib.lines.Line2D at 0x28c8b1972e0>,\n",
       "  <matplotlib.lines.Line2D at 0x28c8b18ac10>,\n",
       "  <matplotlib.lines.Line2D at 0x28c8ad355b0>,\n",
       "  <matplotlib.lines.Line2D at 0x28c8ad54ee0>],\n",
       " 'fliers': [<matplotlib.lines.Line2D at 0x28c8b17bd00>,\n",
       "  <matplotlib.lines.Line2D at 0x28c8b197670>,\n",
       "  <matplotlib.lines.Line2D at 0x28c8b18afa0>,\n",
       "  <matplotlib.lines.Line2D at 0x28c8ad35940>,\n",
       "  <matplotlib.lines.Line2D at 0x28c8ad1d8e0>],\n",
       " 'means': []}"
      ]
     },
     "execution_count": 9,
     "metadata": {},
     "output_type": "execute_result"
    },
    {
     "data": {
      "image/png": "[encoded data removed]",
      "text/plain": [
       "<Figure size 432x288 with 4 Axes>"
      ]
     },
     "metadata": {
      "needs_background": "light"
     },
     "output_type": "display_data"
    }
   ],
   "source": [
    "embed_list = np.load(\"case3_embedding.npy\")\n",
    "\n",
    "fig, ax = plt.subplots(2, 2)\n",
    "\n",
    "ax[0, 0].boxplot(embed_list[:, 0, :])\n",
    "ax[0, 1].boxplot(embed_list[:, 1, :])\n",
    "ax[1, 0].boxplot(embed_list[:, 2, :])\n",
    "ax[1, 1].boxplot(embed_list[:, 3, :])\n"
   ]
  },
  {
   "cell_type": "code",
   "execution_count": 10,
   "metadata": {},
   "outputs": [
    {
     "name": "stderr",
     "output_type": "stream",
     "text": [
      "100%|██████████████████████████████████████████████████| 100/100 [03:19<00:00,  2.00s/it]\n"
     ]
    }
   ],
   "source": [
    "# Simulation 4\n",
    "\n",
    "embed_list = np.zeros((100, 4, 5))\n",
    "vals_list = np.zeros((100, ))\n",
    "\n",
    "for i in tqdm(range(100)):\n",
    "\n",
    "    R_train, X_train, A_train = getdata(500, case=4)\n",
    "    R_test, X_test, A_test = getdata(10000, case=4)\n",
    "\n",
    "    mcitr = MCITR(layer_enc=4, layer_dec=4, layer_cov=0,\n",
    "                  act_enc=\"relu\", act_dec=\"relu\",\n",
    "                  width_enc=20, width_dec=20, optimizer=\"adam\")\n",
    "\n",
    "    mcitr.fit(R_train, X_train, A_train, learning_rate=1e-2, epochs=100)\n",
    "\n",
    "    embed_list[i, 0] = mcitr.trt_encoder.predict(np.array([[0, 0]]))\n",
    "    embed_list[i, 1] = mcitr.trt_encoder.predict(np.array([[1, 0]]))\n",
    "    embed_list[i, 2] = mcitr.trt_encoder.predict(np.array([[0, 1]]))\n",
    "    embed_list[i, 3] = mcitr.trt_encoder.predict(np.array([[1, 1]]))\n",
    "    \n",
    "    D_test = mcitr.predict(X_test, A_test)\n",
    "\n",
    "    vals_list[i] = evalITR(R_test, A_test, D_test)\n",
    "\n",
    "np.save(\"case4_embedding\", embed_list)\n",
    "np.save(\"case4_value\", vals_list)"
   ]
  },
  {
   "cell_type": "code",
   "execution_count": 11,
   "metadata": {},
   "outputs": [
    {
     "data": {
      "text/plain": [
       "{'whiskers': [<matplotlib.lines.Line2D at 0x28c8d562310>,\n",
       "  <matplotlib.lines.Line2D at 0x28c8d5626a0>,\n",
       "  <matplotlib.lines.Line2D at 0x28c8d81dc40>,\n",
       "  <matplotlib.lines.Line2D at 0x28c8d81dfd0>,\n",
       "  <matplotlib.lines.Line2D at 0x28c8d8397c0>,\n",
       "  <matplotlib.lines.Line2D at 0x28c8d839eb0>,\n",
       "  <matplotlib.lines.Line2D at 0x28c8d813ee0>,\n",
       "  <matplotlib.lines.Line2D at 0x28c8d67ef40>,\n",
       "  <matplotlib.lines.Line2D at 0x28c8d65a850>,\n",
       "  <matplotlib.lines.Line2D at 0x28c8d65abe0>],\n",
       " 'caps': [<matplotlib.lines.Line2D at 0x28c8d562a30>,\n",
       "  <matplotlib.lines.Line2D at 0x28c8d562dc0>,\n",
       "  <matplotlib.lines.Line2D at 0x28c8d83a3a0>,\n",
       "  <matplotlib.lines.Line2D at 0x28c8d83a730>,\n",
       "  <matplotlib.lines.Line2D at 0x28c8d839fa0>,\n",
       "  <matplotlib.lines.Line2D at 0x28c8d8130a0>,\n",
       "  <matplotlib.lines.Line2D at 0x28c8d67ebe0>,\n",
       "  <matplotlib.lines.Line2D at 0x28c8d67ee80>,\n",
       "  <matplotlib.lines.Line2D at 0x28c8d65af70>,\n",
       "  <matplotlib.lines.Line2D at 0x28c8d66c340>],\n",
       " 'boxes': [<matplotlib.lines.Line2D at 0x28c8d560f40>,\n",
       "  <matplotlib.lines.Line2D at 0x28c8d81d8b0>,\n",
       "  <matplotlib.lines.Line2D at 0x28c8d839190>,\n",
       "  <matplotlib.lines.Line2D at 0x28c8d813b50>,\n",
       "  <matplotlib.lines.Line2D at 0x28c8d65a4c0>],\n",
       " 'medians': [<matplotlib.lines.Line2D at 0x28c8d81d190>,\n",
       "  <matplotlib.lines.Line2D at 0x28c8d83aac0>,\n",
       "  <matplotlib.lines.Line2D at 0x28c8d813430>,\n",
       "  <matplotlib.lines.Line2D at 0x28c8d67e430>,\n",
       "  <matplotlib.lines.Line2D at 0x28c8d66c6d0>],\n",
       " 'fliers': [<matplotlib.lines.Line2D at 0x28c8d81d520>,\n",
       "  <matplotlib.lines.Line2D at 0x28c8d83ae50>,\n",
       "  <matplotlib.lines.Line2D at 0x28c8d8137c0>,\n",
       "  <matplotlib.lines.Line2D at 0x28c8d65a130>,\n",
       "  <matplotlib.lines.Line2D at 0x28c8d66ca60>],\n",
       " 'means': []}"
      ]
     },
     "execution_count": 11,
     "metadata": {},
     "output_type": "execute_result"
    },
    {
     "data": {
      "image/png": "[encoded data removed]",
      "text/plain": [
       "<Figure size 432x288 with 4 Axes>"
      ]
     },
     "metadata": {
      "needs_background": "light"
     },
     "output_type": "display_data"
    }
   ],
   "source": [
    "embed_list = np.load(\"case4_embedding.npy\")\n",
    "\n",
    "fig, ax = plt.subplots(2, 2)\n",
    "\n",
    "ax[0, 0].boxplot(embed_list[:, 0, :])\n",
    "ax[0, 1].boxplot(embed_list[:, 1, :])\n",
    "ax[1, 0].boxplot(embed_list[:, 2, :])\n",
    "ax[1, 1].boxplot(embed_list[:, 3, :])\n"
   ]
  },
  {
   "cell_type": "code",
   "execution_count": null,
   "metadata": {},
   "outputs": [],
   "source": []
  }
 ],
 "metadata": {
  "kernelspec": {
   "display_name": "Python 3",
   "language": "python",
   "name": "python3"
  },
  "language_info": {
   "codemirror_mode": {
    "name": "ipython",
    "version": 3
   },
   "file_extension": ".py",
   "mimetype": "text/x-python",
   "name": "python",
   "nbconvert_exporter": "python",
   "pygments_lexer": "ipython3",
   "version": "3.8.8"
  }
 },
 "nbformat": 4,
 "nbformat_minor": 4
}
