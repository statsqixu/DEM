{
 "cells": [
  {
   "cell_type": "code",
   "execution_count": 1,
   "metadata": {},
   "outputs": [],
   "source": [
    "import numpy as np\n",
    "import matplotlib.pyplot as plt\n",
    "from util import *\n",
    "from tqdm import tqdm\n",
    "\n",
    "%matplotlib inline"
   ]
  },
  {
   "cell_type": "code",
   "execution_count": 2,
   "metadata": {},
   "outputs": [],
   "source": [
    "def getdata(sample_size, case=1, seed=None):\n",
    "    \n",
    "    if seed is not None:\n",
    "        np.random.seed(seed)\n",
    "    \n",
    "\n",
    "    X = np.random.uniform(low=-1, high=1, size=(sample_size, 5))\n",
    "    A = np.random.choice([0, 1], size=(sample_size, 2))\n",
    "\n",
    "    if case == 1 or 2:\n",
    "        mu = 10 + 5 * X[:, 0] + 3 * X[:, 1] + 2 * X[:, 2] - X[:, 4]\n",
    "    elif case == 3 or 4:\n",
    "        mu = 10 + np.exp(X[:, 0] + 2 * X[:, 1]) + np.abs(X[:, 3])\n",
    "\n",
    "    alpha_ = np.zeros((sample_size, 5))\n",
    "\n",
    "    for i in range(sample_size):\n",
    "\n",
    "        if (A[i, :] == np.array([0, 0])).all():\n",
    "\n",
    "            alpha_[i, :] = np.array([0, 0, 0, 0, 0])\n",
    "\n",
    "        elif (A[i, :] == np.array([1, 0])).all():\n",
    "\n",
    "            alpha_[i, :] = np.array([1, 0, 0, 0, 0])\n",
    "        \n",
    "        elif (A[i, :] == np.array([0, 1])).all():\n",
    "\n",
    "            alpha_[i, :] = np.array([2, 0, 0, 0, 0])\n",
    "\n",
    "        elif (A[i, :] == np.array([1, 1])).all():\n",
    "\n",
    "            alpha_[i, :] = np.array([-3, 0, 0, 0, 0])\n",
    "\n",
    "    beta_ = np.zeros((sample_size, 5))\n",
    "\n",
    "    beta_[:, 0] = X[:, 0] ** 2 + X[:, 1] ** 2 - 2\n",
    "    beta_[:, 1] = np.sin(- (X[:, 1] + X[:, 2]) * np.pi)\n",
    "    beta_[:, 2] = np.log(1 + X[:, 3] ** 2 + X[:, 4] ** 2)\n",
    "    beta_[:, 3] = 1 / (2 + X[:, 4])\n",
    "    beta_[:, 4] = np.exp(- X[:, 2] * X[:, 4])\n",
    "\n",
    "    if case == 1:\n",
    "\n",
    "        R = mu + np.sum(np.multiply(alpha_, X), axis=1) + np.random.normal(size=(sample_size, ))\n",
    "\n",
    "    elif case == 2:\n",
    "\n",
    "        R = mu + np.sum(np.multiply(alpha_, beta_), axis=1) + np.random.normal(size=(sample_size, ))\n",
    "\n",
    "    elif case == 3:\n",
    "\n",
    "        R = mu + np.sum(np.multiply(alpha_, X), axis=1) + np.random.normal(size=(sample_size, ))\n",
    "\n",
    "    elif case == 4:\n",
    "\n",
    "        R = mu + np.sum(np.multiply(alpha_, beta_), axis=1) + np.random.normal(size=(sample_size, ))\n",
    "\n",
    "    return R, X, A\n",
    "\n"
   ]
  },
  {
   "cell_type": "code",
   "execution_count": 3,
   "metadata": {},
   "outputs": [],
   "source": [
    "def evalITR(Y, A, D):\n",
    "\n",
    "    numerator = np.sum(Y[np.all(D == A, axis=1)])\n",
    "    denominator = np.sum(np.all(D == A, axis=1))\n",
    "    \n",
    "    return numerator / denominator"
   ]
  },
  {
   "cell_type": "code",
   "execution_count": 4,
   "metadata": {
    "tags": []
   },
   "outputs": [
    {
     "name": "stderr",
     "output_type": "stream",
     "text": [
      "100%|█████████████████████████████████████████████████████████████████████████████████████████████████████| 500/500 [49:21<00:00,  5.92s/it]\n"
     ]
    }
   ],
   "source": [
    "# Simulation 1\n",
    "\n",
    "embed_list = np.zeros((500, 4, 5))\n",
    "vals_list = np.zeros((500, ))\n",
    "\n",
    "for i in tqdm(range(500)):\n",
    "\n",
    "    R_train, X_train, A_train = getdata(1000)\n",
    "    R_test, X_test, A_test = getdata(10000)\n",
    "\n",
    "    mcitr = MCITR(layer_enc=4, layer_dec=4, layer_cov=4,\n",
    "                  act_enc=\"relu\", act_dec=\"relu\", act_cov=\"relu\", \n",
    "                  width_enc=20, width_dec=20, width_cov=20)\n",
    "\n",
    "    mcitr.fit(R_train, X_train, A_train, learning_rate=1e-2, epochs=300)\n",
    "\n",
    "    embed_list[i, 0] = mcitr.trt_encoder.predict(np.array([[0, 0]]))\n",
    "    embed_list[i, 1] = mcitr.trt_encoder.predict(np.array([[1, 0]]))\n",
    "    embed_list[i, 2] = mcitr.trt_encoder.predict(np.array([[0, 1]]))\n",
    "    embed_list[i, 3] = mcitr.trt_encoder.predict(np.array([[1, 1]]))\n",
    "    \n",
    "    D_test = mcitr.predict(X_test, A_test)\n",
    "\n",
    "    vals_list[i] = evalITR(R_test, A_test, D_test)\n",
    "\n",
    "np.save(\"case1_embedding\", embed_list)\n",
    "np.save(\"case1_value\", vals_list)"
   ]
  },
  {
   "cell_type": "code",
   "execution_count": 8,
   "metadata": {},
   "outputs": [
    {
     "data": {
      "text/plain": [
       "{'whiskers': [<matplotlib.lines.Line2D at 0x1ae0af4f9d0>,\n",
       "  <matplotlib.lines.Line2D at 0x1ae0aa49370>,\n",
       "  <matplotlib.lines.Line2D at 0x1ae0a9e8f40>,\n",
       "  <matplotlib.lines.Line2D at 0x1ae0aa427c0>,\n",
       "  <matplotlib.lines.Line2D at 0x1ae0c201550>,\n",
       "  <matplotlib.lines.Line2D at 0x1ae0c2014c0>,\n",
       "  <matplotlib.lines.Line2D at 0x1ae0e631e20>,\n",
       "  <matplotlib.lines.Line2D at 0x1ae0806b0a0>,\n",
       "  <matplotlib.lines.Line2D at 0x1ae0805c100>,\n",
       "  <matplotlib.lines.Line2D at 0x1ae080375b0>],\n",
       " 'caps': [<matplotlib.lines.Line2D at 0x1ae0ad760a0>,\n",
       "  <matplotlib.lines.Line2D at 0x1ae0ad76400>,\n",
       "  <matplotlib.lines.Line2D at 0x1ae0aa42ca0>,\n",
       "  <matplotlib.lines.Line2D at 0x1ae0e63c1f0>,\n",
       "  <matplotlib.lines.Line2D at 0x1ae0aa39f70>,\n",
       "  <matplotlib.lines.Line2D at 0x1ae0e628d90>,\n",
       "  <matplotlib.lines.Line2D at 0x1ae0806b730>,\n",
       "  <matplotlib.lines.Line2D at 0x1ae0806b160>,\n",
       "  <matplotlib.lines.Line2D at 0x1ae08037dc0>,\n",
       "  <matplotlib.lines.Line2D at 0x1ae08037a30>],\n",
       " 'boxes': [<matplotlib.lines.Line2D at 0x1ae081fd8b0>,\n",
       "  <matplotlib.lines.Line2D at 0x1ae0ad76c40>,\n",
       "  <matplotlib.lines.Line2D at 0x1ae0e63c970>,\n",
       "  <matplotlib.lines.Line2D at 0x1ae0e628040>,\n",
       "  <matplotlib.lines.Line2D at 0x1ae0805c4f0>],\n",
       " 'medians': [<matplotlib.lines.Line2D at 0x1ae0ad76790>,\n",
       "  <matplotlib.lines.Line2D at 0x1ae0e63c310>,\n",
       "  <matplotlib.lines.Line2D at 0x1ae0e6284f0>,\n",
       "  <matplotlib.lines.Line2D at 0x1ae0805cbe0>,\n",
       "  <matplotlib.lines.Line2D at 0x1ae080376d0>],\n",
       " 'fliers': [<matplotlib.lines.Line2D at 0x1ae0ad76b20>,\n",
       "  <matplotlib.lines.Line2D at 0x1ae0e63c8b0>,\n",
       "  <matplotlib.lines.Line2D at 0x1ae0e6283a0>,\n",
       "  <matplotlib.lines.Line2D at 0x1ae0805ca90>,\n",
       "  <matplotlib.lines.Line2D at 0x1ae08063a30>],\n",
       " 'means': []}"
      ]
     },
     "execution_count": 8,
     "metadata": {},
     "output_type": "execute_result"
    },
    {
     "data": {
      "image/png": "[encoded data removed]",
      "text/plain": [
       "<Figure size 432x288 with 4 Axes>"
      ]
     },
     "metadata": {
      "needs_background": "light"
     },
     "output_type": "display_data"
    }
   ],
   "source": [
    "embed_list = np.load(\"case1_embedding.npy\")\n",
    "\n",
    "fig, ax = plt.subplots(2, 2)\n",
    "\n",
    "ax[0, 0].boxplot(embed_list[:, 0, :])\n",
    "ax[0, 1].boxplot(embed_list[:, 1, :])\n",
    "ax[1, 0].boxplot(embed_list[:, 2, :])\n",
    "ax[1, 1].boxplot(embed_list[:, 3, :])\n"
   ]
  },
  {
   "cell_type": "code",
   "execution_count": 5,
   "metadata": {},
   "outputs": [
    {
     "name": "stderr",
     "output_type": "stream",
     "text": [
      "100%|█████████████████████████████████████████████████████████████████████████████████████████████████████| 500/500 [49:04<00:00,  5.89s/it]\n"
     ]
    }
   ],
   "source": [
    "# Simulation 2\n",
    "\n",
    "embed_list = np.zeros((500, 4, 5))\n",
    "vals_list = np.zeros((500, ))\n",
    "\n",
    "for i in tqdm(range(500)):\n",
    "\n",
    "    R_train, X_train, A_train = getdata(1000, case=2)\n",
    "    R_test, X_test, A_test = getdata(10000, case=2)\n",
    "\n",
    "    mcitr = MCITR(layer_enc=4, layer_dec=4, layer_cov=4,\n",
    "                  act_enc=\"relu\", act_dec=\"relu\", act_cov=\"relu\", \n",
    "                  width_enc=20, width_dec=20, width_cov=20)\n",
    "\n",
    "    mcitr.fit(R_train, X_train, A_train, learning_rate=1e-2, epochs=300)\n",
    "\n",
    "    embed_list[i, 0] = mcitr.trt_encoder.predict(np.array([[0, 0]]))\n",
    "    embed_list[i, 1] = mcitr.trt_encoder.predict(np.array([[1, 0]]))\n",
    "    embed_list[i, 2] = mcitr.trt_encoder.predict(np.array([[0, 1]]))\n",
    "    embed_list[i, 3] = mcitr.trt_encoder.predict(np.array([[1, 1]]))\n",
    "    \n",
    "    D_test = mcitr.predict(X_test, A_test)\n",
    "\n",
    "    vals_list[i] = evalITR(R_test, A_test, D_test)\n",
    "\n",
    "np.save(\"case2_embedding\", embed_list)\n",
    "np.save(\"case2_value\", vals_list)"
   ]
  },
  {
   "cell_type": "code",
   "execution_count": 9,
   "metadata": {},
   "outputs": [
    {
     "data": {
      "text/plain": [
       "{'whiskers': [<matplotlib.lines.Line2D at 0x1ae0d335520>,\n",
       "  <matplotlib.lines.Line2D at 0x1ae0d3358b0>,\n",
       "  <matplotlib.lines.Line2D at 0x1ae0d346e50>,\n",
       "  <matplotlib.lines.Line2D at 0x1ae08342220>,\n",
       "  <matplotlib.lines.Line2D at 0x1ae083477c0>,\n",
       "  <matplotlib.lines.Line2D at 0x1ae08347b50>,\n",
       "  <matplotlib.lines.Line2D at 0x1ae08335130>,\n",
       "  <matplotlib.lines.Line2D at 0x1ae083354c0>,\n",
       "  <matplotlib.lines.Line2D at 0x1ae098a3a60>,\n",
       "  <matplotlib.lines.Line2D at 0x1ae098a3df0>],\n",
       " 'caps': [<matplotlib.lines.Line2D at 0x1ae0d335c40>,\n",
       "  <matplotlib.lines.Line2D at 0x1ae0d335fd0>,\n",
       "  <matplotlib.lines.Line2D at 0x1ae083425b0>,\n",
       "  <matplotlib.lines.Line2D at 0x1ae08342940>,\n",
       "  <matplotlib.lines.Line2D at 0x1ae08347ee0>,\n",
       "  <matplotlib.lines.Line2D at 0x1ae083642b0>,\n",
       "  <matplotlib.lines.Line2D at 0x1ae08335850>,\n",
       "  <matplotlib.lines.Line2D at 0x1ae08335be0>,\n",
       "  <matplotlib.lines.Line2D at 0x1ae098bb1c0>,\n",
       "  <matplotlib.lines.Line2D at 0x1ae098bb550>],\n",
       " 'boxes': [<matplotlib.lines.Line2D at 0x1ae0d335190>,\n",
       "  <matplotlib.lines.Line2D at 0x1ae0d346ac0>,\n",
       "  <matplotlib.lines.Line2D at 0x1ae08347430>,\n",
       "  <matplotlib.lines.Line2D at 0x1ae08364d60>,\n",
       "  <matplotlib.lines.Line2D at 0x1ae098a36d0>],\n",
       " 'medians': [<matplotlib.lines.Line2D at 0x1ae0d3463a0>,\n",
       "  <matplotlib.lines.Line2D at 0x1ae08342cd0>,\n",
       "  <matplotlib.lines.Line2D at 0x1ae08364640>,\n",
       "  <matplotlib.lines.Line2D at 0x1ae08335f70>,\n",
       "  <matplotlib.lines.Line2D at 0x1ae098bb8e0>],\n",
       " 'fliers': [<matplotlib.lines.Line2D at 0x1ae0d346730>,\n",
       "  <matplotlib.lines.Line2D at 0x1ae083470a0>,\n",
       "  <matplotlib.lines.Line2D at 0x1ae083649d0>,\n",
       "  <matplotlib.lines.Line2D at 0x1ae098a3340>,\n",
       "  <matplotlib.lines.Line2D at 0x1ae098bbc70>],\n",
       " 'means': []}"
      ]
     },
     "execution_count": 9,
     "metadata": {},
     "output_type": "execute_result"
    },
    {
     "data": {
      "image/png": "[encoded data removed]",
      "text/plain": [
       "<Figure size 432x288 with 4 Axes>"
      ]
     },
     "metadata": {
      "needs_background": "light"
     },
     "output_type": "display_data"
    }
   ],
   "source": [
    "embed_list = np.load(\"case2_embedding.npy\")\n",
    "\n",
    "fig, ax = plt.subplots(2, 2)\n",
    "\n",
    "ax[0, 0].boxplot(embed_list[:, 0, :])\n",
    "ax[0, 1].boxplot(embed_list[:, 1, :])\n",
    "ax[1, 0].boxplot(embed_list[:, 2, :])\n",
    "ax[1, 1].boxplot(embed_list[:, 3, :])\n"
   ]
  },
  {
   "cell_type": "code",
   "execution_count": 6,
   "metadata": {},
   "outputs": [
    {
     "name": "stderr",
     "output_type": "stream",
     "text": [
      "100%|█████████████████████████████████████████████████████████████████████████████████████████████████████| 500/500 [52:36<00:00,  6.31s/it]\n"
     ]
    }
   ],
   "source": [
    "# Simulation 3\n",
    "\n",
    "embed_list = np.zeros((500, 4, 5))\n",
    "vals_list = np.zeros((500, ))\n",
    "\n",
    "for i in tqdm(range(500)):\n",
    "\n",
    "    R_train, X_train, A_train = getdata(1000, case=3)\n",
    "    R_test, X_test, A_test = getdata(10000, case=3)\n",
    "\n",
    "    mcitr = MCITR(layer_enc=4, layer_dec=4, layer_cov=4,\n",
    "                  act_enc=\"relu\", act_dec=\"relu\", act_cov=\"relu\", \n",
    "                  width_enc=20, width_dec=20, width_cov=20)\n",
    "\n",
    "    mcitr.fit(R_train, X_train, A_train, learning_rate=1e-2, epochs=300)\n",
    "\n",
    "    embed_list[i, 0] = mcitr.trt_encoder.predict(np.array([[0, 0]]))\n",
    "    embed_list[i, 1] = mcitr.trt_encoder.predict(np.array([[1, 0]]))\n",
    "    embed_list[i, 2] = mcitr.trt_encoder.predict(np.array([[0, 1]]))\n",
    "    embed_list[i, 3] = mcitr.trt_encoder.predict(np.array([[1, 1]]))\n",
    "    \n",
    "    D_test = mcitr.predict(X_test, A_test)\n",
    "\n",
    "    vals_list[i] = evalITR(R_test, A_test, D_test)\n",
    "\n",
    "np.save(\"case3_embedding\", embed_list)\n",
    "np.save(\"case3_value\", vals_list)"
   ]
  },
  {
   "cell_type": "code",
   "execution_count": 10,
   "metadata": {},
   "outputs": [
    {
     "data": {
      "text/plain": [
       "{'whiskers': [<matplotlib.lines.Line2D at 0x1ae0ab0ff10>,\n",
       "  <matplotlib.lines.Line2D at 0x1ae0aaea370>,\n",
       "  <matplotlib.lines.Line2D at 0x1ae0ab0c910>,\n",
       "  <matplotlib.lines.Line2D at 0x1ae0ab0cca0>,\n",
       "  <matplotlib.lines.Line2D at 0x1ae0af76280>,\n",
       "  <matplotlib.lines.Line2D at 0x1ae0af76610>,\n",
       "  <matplotlib.lines.Line2D at 0x1ae0af65e20>,\n",
       "  <matplotlib.lines.Line2D at 0x1ae0af65d90>,\n",
       "  <matplotlib.lines.Line2D at 0x1ae0d379550>,\n",
       "  <matplotlib.lines.Line2D at 0x1ae0d3798e0>],\n",
       " 'caps': [<matplotlib.lines.Line2D at 0x1ae0aaea700>,\n",
       "  <matplotlib.lines.Line2D at 0x1ae0aaeaa90>,\n",
       "  <matplotlib.lines.Line2D at 0x1ae0af63070>,\n",
       "  <matplotlib.lines.Line2D at 0x1ae0af63400>,\n",
       "  <matplotlib.lines.Line2D at 0x1ae0af769a0>,\n",
       "  <matplotlib.lines.Line2D at 0x1ae0af76d30>,\n",
       "  <matplotlib.lines.Line2D at 0x1ae0d3ab340>,\n",
       "  <matplotlib.lines.Line2D at 0x1ae0d3ab6d0>,\n",
       "  <matplotlib.lines.Line2D at 0x1ae0d379c70>,\n",
       "  <matplotlib.lines.Line2D at 0x1ae083d6040>],\n",
       " 'boxes': [<matplotlib.lines.Line2D at 0x1ae0ab0fc70>,\n",
       "  <matplotlib.lines.Line2D at 0x1ae0ab0c580>,\n",
       "  <matplotlib.lines.Line2D at 0x1ae0af63eb0>,\n",
       "  <matplotlib.lines.Line2D at 0x1ae0af65910>,\n",
       "  <matplotlib.lines.Line2D at 0x1ae0d3791c0>],\n",
       " 'medians': [<matplotlib.lines.Line2D at 0x1ae0aaeae20>,\n",
       "  <matplotlib.lines.Line2D at 0x1ae0af63790>,\n",
       "  <matplotlib.lines.Line2D at 0x1ae0af65130>,\n",
       "  <matplotlib.lines.Line2D at 0x1ae0d3aba60>,\n",
       "  <matplotlib.lines.Line2D at 0x1ae083d63d0>],\n",
       " 'fliers': [<matplotlib.lines.Line2D at 0x1ae0ab0c1f0>,\n",
       "  <matplotlib.lines.Line2D at 0x1ae0af63b20>,\n",
       "  <matplotlib.lines.Line2D at 0x1ae0af653a0>,\n",
       "  <matplotlib.lines.Line2D at 0x1ae0d3abdf0>,\n",
       "  <matplotlib.lines.Line2D at 0x1ae083d6760>],\n",
       " 'means': []}"
      ]
     },
     "execution_count": 10,
     "metadata": {},
     "output_type": "execute_result"
    },
    {
     "data": {
      "image/png": "[encoded data removed]",
      "text/plain": [
       "<Figure size 432x288 with 4 Axes>"
      ]
     },
     "metadata": {
      "needs_background": "light"
     },
     "output_type": "display_data"
    }
   ],
   "source": [
    "embed_list = np.load(\"case3_embedding.npy\")\n",
    "\n",
    "fig, ax = plt.subplots(2, 2)\n",
    "\n",
    "ax[0, 0].boxplot(embed_list[:, 0, :])\n",
    "ax[0, 1].boxplot(embed_list[:, 1, :])\n",
    "ax[1, 0].boxplot(embed_list[:, 2, :])\n",
    "ax[1, 1].boxplot(embed_list[:, 3, :])\n"
   ]
  },
  {
   "cell_type": "code",
   "execution_count": 7,
   "metadata": {},
   "outputs": [
    {
     "name": "stderr",
     "output_type": "stream",
     "text": [
      "100%|█████████████████████████████████████████████████████████████████████████████████████████████████████| 500/500 [52:03<00:00,  6.25s/it]\n"
     ]
    }
   ],
   "source": [
    "# Simulation 4\n",
    "\n",
    "embed_list = np.zeros((500, 4, 5))\n",
    "vals_list = np.zeros((500, ))\n",
    "\n",
    "for i in tqdm(range(500)):\n",
    "\n",
    "    R_train, X_train, A_train = getdata(1000, case=4)\n",
    "    R_test, X_test, A_test = getdata(10000, case=4)\n",
    "\n",
    "    mcitr = MCITR(layer_enc=4, layer_dec=4, layer_cov=4,\n",
    "                  act_enc=\"relu\", act_dec=\"relu\", act_cov=\"relu\", \n",
    "                  width_enc=20, width_dec=20, width_cov=20)\n",
    "\n",
    "    mcitr.fit(R_train, X_train, A_train, learning_rate=1e-2, epochs=300)\n",
    "\n",
    "    embed_list[i, 0] = mcitr.trt_encoder.predict(np.array([[0, 0]]))\n",
    "    embed_list[i, 1] = mcitr.trt_encoder.predict(np.array([[1, 0]]))\n",
    "    embed_list[i, 2] = mcitr.trt_encoder.predict(np.array([[0, 1]]))\n",
    "    embed_list[i, 3] = mcitr.trt_encoder.predict(np.array([[1, 1]]))\n",
    "    \n",
    "    D_test = mcitr.predict(X_test, A_test)\n",
    "\n",
    "    vals_list[i] = evalITR(R_test, A_test, D_test)\n",
    "\n",
    "np.save(\"case4_embedding\", embed_list)\n",
    "np.save(\"case4_value\", vals_list)"
   ]
  },
  {
   "cell_type": "code",
   "execution_count": 11,
   "metadata": {},
   "outputs": [
    {
     "data": {
      "text/plain": [
       "{'whiskers': [<matplotlib.lines.Line2D at 0x1ae0f393550>,\n",
       "  <matplotlib.lines.Line2D at 0x1ae0f3938e0>,\n",
       "  <matplotlib.lines.Line2D at 0x1ae0f39de80>,\n",
       "  <matplotlib.lines.Line2D at 0x1ae0f3a8250>,\n",
       "  <matplotlib.lines.Line2D at 0x1ae0f3b37f0>,\n",
       "  <matplotlib.lines.Line2D at 0x1ae0f3b3b80>,\n",
       "  <matplotlib.lines.Line2D at 0x1ae0f3cc160>,\n",
       "  <matplotlib.lines.Line2D at 0x1ae0f3cc4f0>,\n",
       "  <matplotlib.lines.Line2D at 0x1ae0f3d5a90>,\n",
       "  <matplotlib.lines.Line2D at 0x1ae0f3d5e20>],\n",
       " 'caps': [<matplotlib.lines.Line2D at 0x1ae0f393c70>,\n",
       "  <matplotlib.lines.Line2D at 0x1ae0f39d040>,\n",
       "  <matplotlib.lines.Line2D at 0x1ae0f3a85e0>,\n",
       "  <matplotlib.lines.Line2D at 0x1ae0f3a8970>,\n",
       "  <matplotlib.lines.Line2D at 0x1ae0f3b3f10>,\n",
       "  <matplotlib.lines.Line2D at 0x1ae0f3be2e0>,\n",
       "  <matplotlib.lines.Line2D at 0x1ae0f3cc880>,\n",
       "  <matplotlib.lines.Line2D at 0x1ae0f3ccc10>,\n",
       "  <matplotlib.lines.Line2D at 0x1ae0f3e01f0>,\n",
       "  <matplotlib.lines.Line2D at 0x1ae0f3e0580>],\n",
       " 'boxes': [<matplotlib.lines.Line2D at 0x1ae0f3931c0>,\n",
       "  <matplotlib.lines.Line2D at 0x1ae0f39daf0>,\n",
       "  <matplotlib.lines.Line2D at 0x1ae0f3b3460>,\n",
       "  <matplotlib.lines.Line2D at 0x1ae0f3bed90>,\n",
       "  <matplotlib.lines.Line2D at 0x1ae0f3d5700>],\n",
       " 'medians': [<matplotlib.lines.Line2D at 0x1ae0f39d3d0>,\n",
       "  <matplotlib.lines.Line2D at 0x1ae0f3a8d00>,\n",
       "  <matplotlib.lines.Line2D at 0x1ae0f3be670>,\n",
       "  <matplotlib.lines.Line2D at 0x1ae0f3ccfa0>,\n",
       "  <matplotlib.lines.Line2D at 0x1ae0f3e0910>],\n",
       " 'fliers': [<matplotlib.lines.Line2D at 0x1ae0f39d760>,\n",
       "  <matplotlib.lines.Line2D at 0x1ae0f3b30d0>,\n",
       "  <matplotlib.lines.Line2D at 0x1ae0f3bea00>,\n",
       "  <matplotlib.lines.Line2D at 0x1ae0f3d5370>,\n",
       "  <matplotlib.lines.Line2D at 0x1ae0f3e0ca0>],\n",
       " 'means': []}"
      ]
     },
     "execution_count": 11,
     "metadata": {},
     "output_type": "execute_result"
    },
    {
     "data": {
      "image/png": "[encoded data removed]",
      "text/plain": [
       "<Figure size 432x288 with 4 Axes>"
      ]
     },
     "metadata": {
      "needs_background": "light"
     },
     "output_type": "display_data"
    }
   ],
   "source": [
    "embed_list = np.load(\"case4_embedding.npy\")\n",
    "\n",
    "fig, ax = plt.subplots(2, 2)\n",
    "\n",
    "ax[0, 0].boxplot(embed_list[:, 0, :])\n",
    "ax[0, 1].boxplot(embed_list[:, 1, :])\n",
    "ax[1, 0].boxplot(embed_list[:, 2, :])\n",
    "ax[1, 1].boxplot(embed_list[:, 3, :])\n"
   ]
  },
  {
   "cell_type": "code",
   "execution_count": null,
   "metadata": {},
   "outputs": [],
   "source": []
  }
 ],
 "metadata": {
  "kernelspec": {
   "display_name": "Python 3",
   "language": "python",
   "name": "python3"
  },
  "language_info": {
   "codemirror_mode": {
    "name": "ipython",
    "version": 3
   },
   "file_extension": ".py",
   "mimetype": "text/x-python",
   "name": "python",
   "nbconvert_exporter": "python",
   "pygments_lexer": "ipython3",
   "version": "3.8.8"
  }
 },
 "nbformat": 4,
 "nbformat_minor": 4
}
